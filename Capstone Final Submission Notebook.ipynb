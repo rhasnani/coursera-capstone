{
 "cells": [
  {
   "cell_type": "markdown",
   "metadata": {
    "collapsed": true
   },
   "source": [
    "# Capstone Project - Where to open a health facility in a developing country"
   ]
  },
  {
   "cell_type": "markdown",
   "metadata": {},
   "source": [
    "## Introduction & Background\n",
    "In a developing country like Pakistan, health facilities are not available and at times people have to travel a great deal to see a medical practitioner or expert pertaining to their needs.  With scarce resources, it is imporatnt to make a right decision when opening a health facility to ensure maximum accessibility and coverage.\n",
    "From a business point of view, one would open a facility where population density is higher and there is little competition.  In contrast, from an accessibility point of view, the facility should be located where there is little or no alternative available nearby.\n",
    "Therefore, the factors to consider are:\n",
    "* Population in the vicinity (within x miles/kilometers)\n",
    "* Type of facility being envisaged (clinic, primary care, secondary care, tertiary care)\n",
    "* Presense of facilities in the vicinity"
   ]
  },
  {
   "cell_type": "markdown",
   "metadata": {},
   "source": [
    "## Data\n",
    "As data available is not easily available and need to be manually gathered or using other APIs, the scope is restricted to certain or ALL districts of Sindh Provice.  Pakistan has four provinces (and other administrative units).  Sindh Province has 29 districts.  Depending on the time, some or all of 29 districts data would be used for the project.\n",
    "\n",
    "FourSquare API would be used to explore presense of hospitals, medical centres, maternity clinics, Doctor's office. Population data would be gathered manually from the web.  Geopy would be used to get geo coordinates of districts.\n"
   ]
  },
  {
   "cell_type": "markdown",
   "metadata": {},
   "source": [
    "## Limitations\n",
    "The results of the work depend on the accuracy of foursquare API data.\n"
   ]
  },
  {
   "cell_type": "markdown",
   "metadata": {},
   "source": [
    "### Reuqest\n",
    "**Not sure whether the above level of detail is sufficient, please feel free to comment whether any of the above need more elaboration**"
   ]
  },
  {
   "cell_type": "code",
   "execution_count": null,
   "metadata": {},
   "outputs": [],
   "source": []
  }
 ],
 "metadata": {
  "kernelspec": {
   "display_name": "Python 3.6",
   "language": "python",
   "name": "python3"
  },
  "language_info": {
   "codemirror_mode": {
    "name": "ipython",
    "version": 3
   },
   "file_extension": ".py",
   "mimetype": "text/x-python",
   "name": "python",
   "nbconvert_exporter": "python",
   "pygments_lexer": "ipython3",
   "version": "3.6.9"
  }
 },
 "nbformat": 4,
 "nbformat_minor": 1
}
